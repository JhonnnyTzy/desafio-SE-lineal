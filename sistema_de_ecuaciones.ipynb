{
  "nbformat": 4,
  "nbformat_minor": 0,
  "metadata": {
    "colab": {
      "provenance": [],
      "authorship_tag": "ABX9TyPlOdm53jv6gH+yFioWXkWZ",
      "include_colab_link": true
    },
    "kernelspec": {
      "name": "python3",
      "display_name": "Python 3"
    },
    "language_info": {
      "name": "python"
    }
  },
  "cells": [
    {
      "cell_type": "markdown",
      "metadata": {
        "id": "view-in-github",
        "colab_type": "text"
      },
      "source": [
        "<a href=\"https://colab.research.google.com/github/JhonnnyTzy/desafio-SE-lineal/blob/main/sistema_de_ecuaciones.ipynb\" target=\"_parent\"><img src=\"https://colab.research.google.com/assets/colab-badge.svg\" alt=\"Open In Colab\"/></a>"
      ]
    },
    {
      "cell_type": "code",
      "execution_count": null,
      "metadata": {
        "colab": {
          "base_uri": "https://localhost:8080/"
        },
        "id": "yRxqlCZBaEj0",
        "outputId": "eb537883-2f65-41fc-8f1c-30ae3c0016f3"
      },
      "outputs": [
        {
          "output_type": "stream",
          "name": "stdout",
          "text": [
            "La cantidad de metros cúbicos que se deben transportar desde cada cantera es:\n",
            "Cantera 1: 32.85 metros cúbicos\n",
            "Cantera 2: 63.88 metros cúbicos\n",
            "Cantera 3: 65.29 metros cúbicos\n"
          ]
        }
      ],
      "source": [
        "import numpy as np\n",
        "\n",
        "# Definir la matriz A\n",
        "A = np.array([[52, 30, 18],\n",
        "              [20, 50, 30],\n",
        "              [25, 20, 55]])\n",
        "\n",
        "# Definir el vector b\n",
        "b = np.array([4800, 5810, 5690])\n",
        "\n",
        "# Resolver el sistema de ecuaciones Ax = b\n",
        "x = np.linalg.solve(A, b)\n",
        "\n",
        "# Mostrar el resultado\n",
        "print('La cantidad de metros cúbicos que se deben transportar desde cada cantera es:')\n",
        "for i, val in enumerate(x):\n",
        "  print(f\"Cantera {i+1}: {val:.2f} metros cúbicos\")\n"
      ]
    }
  ]
}